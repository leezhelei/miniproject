{
 "cells": [
  {
   "cell_type": "markdown",
   "id": "46973fa2",
   "metadata": {},
   "source": [
    "## Exercise 3"
   ]
  },
  {
   "cell_type": "code",
   "execution_count": 1,
   "id": "c25a0586",
   "metadata": {},
   "outputs": [
    {
     "ename": "error",
     "evalue": "OpenCV(4.8.0) D:\\a\\opencv-python\\opencv-python\\opencv\\modules\\imgproc\\src\\resize.cpp:4062: error: (-215:Assertion failed) !ssize.empty() in function 'cv::resize'\n",
     "output_type": "error",
     "traceback": [
      "\u001b[1;31m---------------------------------------------------------------------------\u001b[0m",
      "\u001b[1;31merror\u001b[0m                                     Traceback (most recent call last)",
      "Input \u001b[1;32mIn [1]\u001b[0m, in \u001b[0;36m<cell line: 18>\u001b[1;34m()\u001b[0m\n\u001b[0;32m     18\u001b[0m ret, frame \u001b[38;5;241m=\u001b[39m cap\u001b[38;5;241m.\u001b[39mread()\n\u001b[0;32m     20\u001b[0m \u001b[38;5;66;03m#resize frame\u001b[39;00m\n\u001b[1;32m---> 21\u001b[0m resize_frame \u001b[38;5;241m=\u001b[39m \u001b[43mcv\u001b[49m\u001b[38;5;241;43m.\u001b[39;49m\u001b[43mresize\u001b[49m\u001b[43m(\u001b[49m\u001b[43mframe\u001b[49m\u001b[43m,\u001b[49m\u001b[43m \u001b[49m\u001b[38;5;28;43;01mNone\u001b[39;49;00m\u001b[43m,\u001b[49m\u001b[43m \u001b[49m\u001b[43mfx\u001b[49m\u001b[43m \u001b[49m\u001b[38;5;241;43m=\u001b[39;49m\u001b[43m \u001b[49m\u001b[38;5;241;43m0.3\u001b[39;49m\u001b[43m,\u001b[49m\u001b[43m \u001b[49m\u001b[43mfy\u001b[49m\u001b[43m \u001b[49m\u001b[38;5;241;43m=\u001b[39;49m\u001b[43m \u001b[49m\u001b[38;5;241;43m0.3\u001b[39;49m\u001b[43m)\u001b[49m\n\u001b[0;32m     22\u001b[0m w, h \u001b[38;5;241m=\u001b[39m \u001b[38;5;28mint\u001b[39m(resize_frame\u001b[38;5;241m.\u001b[39mshape[\u001b[38;5;241m1\u001b[39m]), \u001b[38;5;28mint\u001b[39m(resize_frame\u001b[38;5;241m.\u001b[39mshape[\u001b[38;5;241m0\u001b[39m]) \u001b[38;5;66;03m#find in opencv official documentation -> 4.7.0 -> search videocaptureAPI\u001b[39;00m\n\u001b[0;32m     23\u001b[0m out \u001b[38;5;241m=\u001b[39m cv\u001b[38;5;241m.\u001b[39mVideoWriter(\u001b[38;5;124m\"\u001b[39m\u001b[38;5;124mvideos/smaller_img_pexels.avi\u001b[39m\u001b[38;5;124m\"\u001b[39m, fourcc, fps, (w, h))\n",
      "\u001b[1;31merror\u001b[0m: OpenCV(4.8.0) D:\\a\\opencv-python\\opencv-python\\opencv\\modules\\imgproc\\src\\resize.cpp:4062: error: (-215:Assertion failed) !ssize.empty() in function 'cv::resize'\n"
     ]
    }
   ],
   "source": [
    "import sys\n",
    "assert sys.version_info >= (3, 7)\n",
    "import cv2 as cv\n",
    "import numpy as np\n",
    "\n",
    "cap = cv.VideoCapture(\"videos/img_pexels.mp4\")\n",
    "\n",
    "#check if the obj has been create successfully\n",
    "if not cap.isOpened():\n",
    "    sys.exit(\"No such file\")\n",
    "    \n",
    "# parameters: fourcc, fps\n",
    "fourcc = cv.VideoWriter_fourcc(\"M\",\"J\",\"P\",\"G\") # fourcc -> identifier/algorithm to determine how the file is to be compressed or decompressed (extension varies based on hardware/software)\n",
    "fps = 15\n",
    "\n",
    "#read the frames with loop\n",
    "while True:\n",
    "    ret, frame = cap.read()\n",
    "    \n",
    "    #resize frame\n",
    "    resize_frame = cv.resize(frame, None, fx = 0.3, fy = 0.3)\n",
    "    w, h = int(resize_frame.shape[1]), int(resize_frame.shape[0]) #find in opencv official documentation -> 4.7.0 -> search videocaptureAPI\n",
    "    out = cv.VideoWriter(\"videos/smaller_img_pexels.avi\", fourcc, fps, (w, h))\n",
    "    \n",
    "    if not ret:\n",
    "        print(\"No frame detected\")\n",
    "        break\n",
    "    cv.imshow(\"resize frame\", resize_frame)\n",
    "    k = cv.waitKey(1) & 0xFF\n",
    "    if k == 27:\n",
    "        break\n",
    "        \n",
    "    #write resize frame to new output video file\n",
    "    out.write(resize_frame)\n",
    "        \n",
    "cap.release()\n",
    "cv.destroyAllWindows()"
   ]
  },
  {
   "cell_type": "markdown",
   "id": "3edbb172",
   "metadata": {},
   "source": [
    "## Exercise 4"
   ]
  },
  {
   "cell_type": "code",
   "execution_count": 2,
   "id": "c068d5bc",
   "metadata": {},
   "outputs": [],
   "source": [
    "img = cv.imread(\"images/dog.jfif\")\n",
    "\n",
    "#arguments: source image, dimension, fx, fy, interpolation methods(default: bilinear)\n",
    "# method 1: linear interpolation => estimate using straight line between 2 neighbouring data [smooth]\n",
    "img_resize_linear = cv.resize(img, None, fx = 1.5, fy = 1.5, interpolation=cv.INTER_LINEAR)\n",
    "# method 2: cubic interpolation => more data points than linear [clear]\n",
    "img_resize_cubic = cv.resize(img, None, fx = 1.5, fy = 1.5, interpolation=cv.INTER_CUBIC)\n",
    "# method 2: nearest neighbour interpolation => assign value of the nearest data point to the interpolated point [blocky]\n",
    "img_resize_nearest = cv.resize(img, None, fx = 1.5, fy = 1.5, interpolation=cv.INTER_NEAREST)\n",
    "\n",
    "cv.imshow(\"original\", img)\n",
    "cv.imshow(\"upscale-linear\", img_resize_linear)\n",
    "cv.imshow(\"upscale-cubic\", img_resize_cubic)\n",
    "cv.imshow(\"upscale-nearest neighbour\", img_resize_nearest)\n",
    "\n",
    "cv.waitKey(0)\n",
    "cv.destroyAllWindows()"
   ]
  }
 ],
 "metadata": {
  "kernelspec": {
   "display_name": "Python 3 (ipykernel)",
   "language": "python",
   "name": "python3"
  },
  "language_info": {
   "codemirror_mode": {
    "name": "ipython",
    "version": 3
   },
   "file_extension": ".py",
   "mimetype": "text/x-python",
   "name": "python",
   "nbconvert_exporter": "python",
   "pygments_lexer": "ipython3",
   "version": "3.9.13"
  }
 },
 "nbformat": 4,
 "nbformat_minor": 5
}
